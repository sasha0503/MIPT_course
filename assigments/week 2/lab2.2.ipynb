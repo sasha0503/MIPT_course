{
 "cells": [
  {
   "cell_type": "code",
   "execution_count": 74,
   "id": "df1ee988",
   "metadata": {},
   "outputs": [],
   "source": [
    "from math import *\n",
    "import numpy as np"
   ]
  },
  {
   "cell_type": "markdown",
   "id": "4e817eee",
   "metadata": {},
   "source": [
    "### Функція, яка дана в умові"
   ]
  },
  {
   "cell_type": "code",
   "execution_count": 75,
   "id": "02bc2a50",
   "metadata": {},
   "outputs": [],
   "source": [
    "def f(x):\n",
    "     return sin(x / 5) * exp(x / 10) + 5 * exp(-x / 2)"
   ]
  },
  {
   "cell_type": "markdown",
   "id": "60c2f2fc",
   "metadata": {},
   "source": [
    "### Точки Х, які дані в умові"
   ]
  },
  {
   "cell_type": "code",
   "execution_count": 76,
   "id": "ea44e5d6",
   "metadata": {},
   "outputs": [],
   "source": [
    "X = np.array([1.0, 4.0, 10.0, 15.0])"
   ]
  },
  {
   "cell_type": "markdown",
   "id": "2586eabb",
   "metadata": {},
   "source": [
    "### Знаходимо відповідні ігреки"
   ]
  },
  {
   "cell_type": "code",
   "execution_count": 77,
   "id": "d3073568",
   "metadata": {},
   "outputs": [],
   "source": [
    "y = np.array([f(x) for x in X])"
   ]
  },
  {
   "cell_type": "markdown",
   "id": "a5d9f4ea",
   "metadata": {},
   "source": [
    "### Робимо ікси третього степеня, тому що так сказано в умові"
   ]
  },
  {
   "cell_type": "code",
   "execution_count": 78,
   "id": "46343a02",
   "metadata": {},
   "outputs": [],
   "source": [
    "from sklearn.preprocessing import PolynomialFeatures\n",
    "poly_features = PolynomialFeatures(degree=3)\n",
    "X_poly = poly_features.fit_transform(X.reshape(-1, 1))"
   ]
  },
  {
   "cell_type": "markdown",
   "id": "08436cdf",
   "metadata": {},
   "source": [
    "### Використовуємо лінійну модель з бібліотеки sklearn"
   ]
  },
  {
   "cell_type": "code",
   "execution_count": 82,
   "id": "d2b6561a",
   "metadata": {},
   "outputs": [],
   "source": [
    "from sklearn.linear_model import LinearRegression\n",
    "lin_reg = LinearRegression(fit_intercept=True)"
   ]
  },
  {
   "cell_type": "markdown",
   "id": "049f2462",
   "metadata": {},
   "source": [
    "### Тренуємо модель з нашими Х і у"
   ]
  },
  {
   "cell_type": "code",
   "execution_count": 87,
   "id": "c790090e",
   "metadata": {},
   "outputs": [
    {
     "data": {
      "text/plain": [
       "LinearRegression()"
      ]
     },
     "execution_count": 87,
     "metadata": {},
     "output_type": "execute_result"
    }
   ],
   "source": [
    "lin_reg.fit(X_poly, y)"
   ]
  },
  {
   "cell_type": "markdown",
   "id": "f9ff7ed9",
   "metadata": {},
   "source": [
    "### Дивимося, який коеф біля х0"
   ]
  },
  {
   "cell_type": "code",
   "execution_count": 88,
   "id": "6c626a22",
   "metadata": {},
   "outputs": [
    {
     "data": {
      "text/plain": [
       "4.362641535117984"
      ]
     },
     "execution_count": 88,
     "metadata": {},
     "output_type": "execute_result"
    }
   ],
   "source": [
    "lin_reg.intercept_"
   ]
  },
  {
   "cell_type": "markdown",
   "id": "2de0a255",
   "metadata": {},
   "source": [
    "### Коефи біля х1, x2, x3"
   ]
  },
  {
   "cell_type": "code",
   "execution_count": 86,
   "id": "d22a426a",
   "metadata": {},
   "outputs": [
    {
     "data": {
      "text/plain": [
       "array([ 0.        , -1.29552587,  0.19333685, -0.00823565])"
      ]
     },
     "execution_count": 86,
     "metadata": {},
     "output_type": "execute_result"
    }
   ],
   "source": [
    "lin_reg.coef_"
   ]
  }
 ],
 "metadata": {
  "kernelspec": {
   "display_name": "Python 3",
   "language": "python",
   "name": "python3"
  },
  "language_info": {
   "codemirror_mode": {
    "name": "ipython",
    "version": 3
   },
   "file_extension": ".py",
   "mimetype": "text/x-python",
   "name": "python",
   "nbconvert_exporter": "python",
   "pygments_lexer": "ipython3",
   "version": "3.8.8"
  }
 },
 "nbformat": 4,
 "nbformat_minor": 5
}
