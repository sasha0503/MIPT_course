{
 "cells": [
  {
   "cell_type": "markdown",
   "id": "393822f6",
   "metadata": {},
   "source": [
    "# Find similar sentences"
   ]
  },
  {
   "cell_type": "markdown",
   "id": "a90935b8",
   "metadata": {},
   "source": [
    "### Треба поділити текст на речення, а речення на слова. Знайти, у яких реченнях слова найбільш схожі до першого"
   ]
  },
  {
   "cell_type": "markdown",
   "id": "410b81df",
   "metadata": {},
   "source": [
    "### Скачали й додали потрібні бібліотеки"
   ]
  },
  {
   "cell_type": "code",
   "execution_count": 13,
   "id": "11c8d10f",
   "metadata": {},
   "outputs": [],
   "source": [
    "import numpy as np\n",
    "import scipy\n",
    "import re "
   ]
  },
  {
   "cell_type": "code",
   "execution_count": 3,
   "id": "35d64c67",
   "metadata": {},
   "outputs": [
    {
     "name": "stderr",
     "output_type": "stream",
     "text": [
      "[nltk_data] Error loading punkt: <urlopen error [Errno 11001]\n",
      "[nltk_data]     getaddrinfo failed>\n"
     ]
    },
    {
     "data": {
      "text/plain": [
       "False"
      ]
     },
     "execution_count": 3,
     "metadata": {},
     "output_type": "execute_result"
    }
   ],
   "source": [
    "import nltk\n",
    "nltk.download('punkt')"
   ]
  },
  {
   "cell_type": "code",
   "execution_count": 4,
   "id": "0e9a55fd",
   "metadata": {},
   "outputs": [],
   "source": [
    "from nltk import RegexpTokenizer\n",
    "tokenizer = RegexpTokenizer(r'\\w+')"
   ]
  },
  {
   "cell_type": "markdown",
   "id": "e2593e8e",
   "metadata": {},
   "source": [
    "### Записали файл у змінну \"текст\""
   ]
  },
  {
   "cell_type": "code",
   "execution_count": 5,
   "id": "1f70f72c",
   "metadata": {},
   "outputs": [],
   "source": [
    "with open('sentences.txt', 'r') as file:\n",
    "    text = file.read()"
   ]
  },
  {
   "cell_type": "markdown",
   "id": "cdb11e9b",
   "metadata": {},
   "source": [
    "### Забрали дужки, тире, знаки переносу рядка"
   ]
  },
  {
   "cell_type": "code",
   "execution_count": 6,
   "id": "c7d765ba",
   "metadata": {},
   "outputs": [],
   "source": [
    "text = text.replace('\\n', '')\n",
    "text = text.replace('(', '')\n",
    "text = text.replace(')', '')\n",
    "text = text.replace('- ', '')"
   ]
  },
  {
   "cell_type": "markdown",
   "id": "f9176286",
   "metadata": {},
   "source": [
    "### Робили текст на масив усіх слів \"words\""
   ]
  },
  {
   "cell_type": "code",
   "execution_count": 7,
   "id": "aff77ef5",
   "metadata": {},
   "outputs": [],
   "source": [
    "words = tokenizer.tokenize(text)"
   ]
  },
  {
   "cell_type": "markdown",
   "id": "5441bd13",
   "metadata": {},
   "source": [
    "### Створили масив унікальних слів \"list_of_words\""
   ]
  },
  {
   "cell_type": "code",
   "execution_count": 8,
   "id": "cf64cd99",
   "metadata": {},
   "outputs": [],
   "source": [
    "list_of_words = []"
   ]
  },
  {
   "cell_type": "code",
   "execution_count": 9,
   "id": "81efe1f5",
   "metadata": {},
   "outputs": [],
   "source": [
    "for word in words:\n",
    "    if not word in list_of_words:\n",
    "        list_of_words.append(word)"
   ]
  },
  {
   "cell_type": "markdown",
   "id": "4f13c924",
   "metadata": {},
   "source": [
    "### Відсортували й переглянули його"
   ]
  },
  {
   "cell_type": "code",
   "execution_count": 10,
   "id": "dee03137",
   "metadata": {},
   "outputs": [
    {
     "data": {
      "text/plain": [
       "['0',\n",
       " '000',\n",
       " '10',\n",
       " '11',\n",
       " '20',\n",
       " '2007',\n",
       " '2010',\n",
       " '2012',\n",
       " '25',\n",
       " '26',\n",
       " '300',\n",
       " '38',\n",
       " '4',\n",
       " '5',\n",
       " '8',\n",
       " 'A',\n",
       " 'According',\n",
       " 'App',\n",
       " 'Apple',\n",
       " 'As',\n",
       " 'Cat',\n",
       " 'Cats',\n",
       " 'Domestic',\n",
       " 'Felis',\n",
       " 'However',\n",
       " 'In',\n",
       " 'Intel',\n",
       " 'July',\n",
       " 'Leopard',\n",
       " 'Linux',\n",
       " 'Lion',\n",
       " 'Mac',\n",
       " 'Mavericks',\n",
       " 'Mid',\n",
       " 'Mountain',\n",
       " 'OS',\n",
       " 'OSx86',\n",
       " 'October',\n",
       " 'Safari',\n",
       " 'Since',\n",
       " 'Store',\n",
       " 'The',\n",
       " 'Tiger',\n",
       " 'Unix',\n",
       " 'Using',\n",
       " 'When',\n",
       " 'X',\n",
       " 'Yosemite',\n",
       " 'a',\n",
       " 'adjacent',\n",
       " 'allow',\n",
       " 'allows',\n",
       " 'also',\n",
       " 'an',\n",
       " 'ancestor',\n",
       " 'and',\n",
       " 'animals',\n",
       " 'any',\n",
       " 'are',\n",
       " 'arguments',\n",
       " 'artificial',\n",
       " 'as',\n",
       " 'available',\n",
       " 'based',\n",
       " 'basic',\n",
       " 'be',\n",
       " 'between',\n",
       " 'binary',\n",
       " 'both',\n",
       " 'by',\n",
       " 'bytes',\n",
       " 'can',\n",
       " 'cat',\n",
       " 'catenates',\n",
       " 'cats',\n",
       " 'changes',\n",
       " 'chromosomes',\n",
       " 'clear',\n",
       " 'closest',\n",
       " 'command',\n",
       " 'commands',\n",
       " 'common',\n",
       " 'community',\n",
       " 'comparison',\n",
       " 'computers',\n",
       " 'concatenate',\n",
       " 'concern',\n",
       " 'connected',\n",
       " 'contains',\n",
       " 'content',\n",
       " 'count',\n",
       " 'create',\n",
       " 'default',\n",
       " 'delete',\n",
       " 'deliberately',\n",
       " 'developed',\n",
       " 'diploid',\n",
       " 'disk',\n",
       " 'displays',\n",
       " 'dogs',\n",
       " 'domesticated',\n",
       " 'domestication',\n",
       " 'download',\n",
       " 'drive',\n",
       " 'during',\n",
       " 'ears',\n",
       " 'editions',\n",
       " 'enhancements',\n",
       " 'entirely',\n",
       " 'error',\n",
       " 'every',\n",
       " 'external',\n",
       " 'factory',\n",
       " 'faint',\n",
       " 'features',\n",
       " 'fifth',\n",
       " 'file',\n",
       " 'files',\n",
       " 'firmware',\n",
       " 'flow',\n",
       " 'for',\n",
       " 'frequency',\n",
       " 'from',\n",
       " 'genes',\n",
       " 'genus',\n",
       " 'has',\n",
       " 'have',\n",
       " 'hear',\n",
       " 'high',\n",
       " 'human',\n",
       " 'if',\n",
       " 'in',\n",
       " 'incremental',\n",
       " 'information',\n",
       " 'installation',\n",
       " 'installed',\n",
       " 'installs',\n",
       " 'instead',\n",
       " 'interactive',\n",
       " 'is',\n",
       " 'it',\n",
       " 'its',\n",
       " 'just',\n",
       " 'keyboards',\n",
       " 'kg',\n",
       " 'later',\n",
       " 'lb',\n",
       " 'learned',\n",
       " 'left',\n",
       " 'legibility',\n",
       " 'lines',\n",
       " 'longer',\n",
       " 'made',\n",
       " 'major',\n",
       " 'marks',\n",
       " 'may',\n",
       " 'members',\n",
       " 'mice',\n",
       " 'more',\n",
       " 'most',\n",
       " 'mountain',\n",
       " 'moved',\n",
       " 'named',\n",
       " 'need',\n",
       " 'needing',\n",
       " 'new',\n",
       " 'no',\n",
       " 'non',\n",
       " 'not',\n",
       " 'now',\n",
       " 'of',\n",
       " 'off',\n",
       " 'offered',\n",
       " 'often',\n",
       " 'on',\n",
       " 'one',\n",
       " 'online',\n",
       " 'or',\n",
       " 'organisms',\n",
       " 'other',\n",
       " 'output',\n",
       " 'over',\n",
       " 'part',\n",
       " 'patch',\n",
       " 'people',\n",
       " 'permanently',\n",
       " 'piped',\n",
       " 'pipes',\n",
       " 'place',\n",
       " 'possess',\n",
       " 'predators',\n",
       " 'predecessor',\n",
       " 'process',\n",
       " 'processors',\n",
       " 'purchase',\n",
       " 'rather',\n",
       " 'read',\n",
       " 'received',\n",
       " 'receives',\n",
       " 'recent',\n",
       " 'redirected',\n",
       " 'redirection',\n",
       " 'release',\n",
       " 'released',\n",
       " 'releases',\n",
       " 'releasing',\n",
       " 'right',\n",
       " 'roughly',\n",
       " 'run',\n",
       " 'running',\n",
       " 's',\n",
       " 'safer',\n",
       " 'second',\n",
       " 'selection',\n",
       " 'separate',\n",
       " 'sequence',\n",
       " 'similar',\n",
       " 'simply',\n",
       " 'single',\n",
       " 'size',\n",
       " 'small',\n",
       " 'so',\n",
       " 'some',\n",
       " 'sounds',\n",
       " 'standard',\n",
       " 'started',\n",
       " 'starting',\n",
       " 'stdin',\n",
       " 'stdout',\n",
       " 'streams',\n",
       " 'successor',\n",
       " 'such',\n",
       " 'switch',\n",
       " 'symbol',\n",
       " 'symbols',\n",
       " 't',\n",
       " 'tamed',\n",
       " 'terms',\n",
       " 'than',\n",
       " 'that',\n",
       " 'the',\n",
       " 'their',\n",
       " 'they',\n",
       " 'those',\n",
       " 'three',\n",
       " 'through',\n",
       " 'time',\n",
       " 'to',\n",
       " 'too',\n",
       " 'two',\n",
       " 'type',\n",
       " 'typically',\n",
       " 'undergone',\n",
       " 'unnecessary',\n",
       " 'update',\n",
       " 'upgrade',\n",
       " 'use',\n",
       " 'used',\n",
       " 'useful',\n",
       " 'using',\n",
       " 'vermin',\n",
       " 'version',\n",
       " 'versions',\n",
       " 'was',\n",
       " 'weighing',\n",
       " 'were',\n",
       " 'when',\n",
       " 'where',\n",
       " 'which',\n",
       " 'wild',\n",
       " 'will',\n",
       " 'with',\n",
       " 'without',\n",
       " 'won',\n",
       " 'world',\n",
       " 'wrong',\n",
       " 'x86',\n",
       " 'year',\n",
       " 'you']"
      ]
     },
     "execution_count": 10,
     "metadata": {},
     "output_type": "execute_result"
    }
   ],
   "source": [
    "list_of_words.sort()\n",
    "list_of_words"
   ]
  },
  {
   "cell_type": "markdown",
   "id": "447aebf2",
   "metadata": {},
   "source": [
    "### Кількість унікальних слів"
   ]
  },
  {
   "cell_type": "code",
   "execution_count": 11,
   "id": "64e36e66",
   "metadata": {},
   "outputs": [
    {
     "data": {
      "text/plain": [
       "279"
      ]
     },
     "execution_count": 11,
     "metadata": {},
     "output_type": "execute_result"
    }
   ],
   "source": [
    "word_num = len(list_of_words)\n",
    "word_num"
   ]
  },
  {
   "cell_type": "markdown",
   "id": "3351cc67",
   "metadata": {},
   "source": [
    "### Додали \"protected dots\" - крапки, які стоять не між реченнями, а в числах (8.8 lb, наприклад)"
   ]
  },
  {
   "cell_type": "code",
   "execution_count": 14,
   "id": "4ac717e6",
   "metadata": {},
   "outputs": [],
   "source": [
    "protected_dots = re.sub(r\"(\\d)\\.(\\d)\", r\"\\1[PROTECTED_DOT]\\2\", text)"
   ]
  },
  {
   "cell_type": "code",
   "execution_count": 15,
   "id": "aabc3e11",
   "metadata": {},
   "outputs": [],
   "source": [
    "sentences_with_protected_dots = protected_dots.split('.')"
   ]
  },
  {
   "cell_type": "markdown",
   "id": "638498ff",
   "metadata": {},
   "source": [
    "### Поділили текст на речення й повернули крапки на місце \"[PROTECTED_DOT]\""
   ]
  },
  {
   "cell_type": "code",
   "execution_count": 17,
   "id": "0ec7c2a0",
   "metadata": {},
   "outputs": [],
   "source": [
    "sentences = [sentence.replace(\"[PROTECTED_DOT]\", \".\") for sentence in sentences_with_protected_dots]"
   ]
  },
  {
   "cell_type": "markdown",
   "id": "90b2a321",
   "metadata": {},
   "source": [
    "### Забрали останнє речення, тому що воно чомусь пусте"
   ]
  },
  {
   "cell_type": "code",
   "execution_count": 18,
   "id": "5626b25a",
   "metadata": {},
   "outputs": [
    {
     "data": {
      "text/plain": [
       "''"
      ]
     },
     "execution_count": 18,
     "metadata": {},
     "output_type": "execute_result"
    }
   ],
   "source": [
    "sentences.pop(-1)"
   ]
  },
  {
   "cell_type": "markdown",
   "id": "fed16e47",
   "metadata": {},
   "source": [
    "### Наш масив речень"
   ]
  },
  {
   "cell_type": "code",
   "execution_count": 19,
   "id": "8a47e65a",
   "metadata": {},
   "outputs": [
    {
     "data": {
      "text/plain": [
       "['In comparison to dogs, cats have not undergone major changes during the domestication process',\n",
       " 'As cat simply catenates streams of bytes, it can be also used to concatenate binary files, where it will just concatenate sequence of bytes',\n",
       " 'A common interactive use of cat for a single file is to output the content of a file to standard output',\n",
       " 'Cats can hear sounds too faint or too high in frequency for human ears, such as those made by mice and other small animals',\n",
       " 'In one, people deliberately tamed cats in a process of artificial selection, as they were useful predators of vermin',\n",
       " 'The domesticated cat and its closest wild ancestor are both diploid organisms that possess 38 chromosomes and roughly 20,000 genes',\n",
       " 'Domestic cats are similar in size to the other members of the genus Felis, typically weighing between 4 and 5 kg 8.8 and 11.0 lb',\n",
       " 'However, if the output is piped or redirected, cat is unnecessary',\n",
       " 'cat with one named file is safer where human error is a concern one wrong use of the default redirection symbol \">\" instead of \"<\" often adjacent on keyboards may permanently delete the file you were just needing to read',\n",
       " 'In terms of legibility, a sequence of commands starting with cat and connected by pipes has a clear left-to-right flow of information',\n",
       " 'Cat command is one of the basic commands that you learned when you started in the Unix / Linux world',\n",
       " 'Using cat command, the lines received from stdin can be redirected to a new file using redirection symbols',\n",
       " 'When you type simply cat command without any arguments, it just receives the stdin content and displays it in the stdout',\n",
       " 'Leopard was released on October 26, 2007 as the successor of Tiger version 10.4, and is available in two editions',\n",
       " 'According to Apple, Leopard contains over 300 changes and enhancements over its predecessor, Mac OS X Tiger',\n",
       " 'As of Mid 2010, some Apple computers have firmware factory installed which will no longer allow installation of Mac OS X Leopard',\n",
       " 'Since Apple moved to using Intel processors in their computers, the OSx86 community has developed and now also allows Mac OS X Tiger and later releases to be installed on non-Apple x86-based computers',\n",
       " \"OS X Mountain Lion was released on July 25, 2012 for purchase and download through Apple's Mac App Store, as part of a switch to releasing OS X versions online and every year\",\n",
       " 'Apple has released a small patch for the three most recent versions of Safari running on OS X Yosemite, Mavericks, and Mountain Lion',\n",
       " 'The Mountain Lion release marks the second time Apple has offered an incremental upgrade, rather than releasing a new cat entirely',\n",
       " \"Mac OS X Mountain Lion installs in place, so you won't need to create a separate disk or run the installation off an external drive\",\n",
       " \"The fifth major update to Mac OS X, Leopard, contains such a mountain of features more than 300 by Apple's count\"]"
      ]
     },
     "execution_count": 19,
     "metadata": {},
     "output_type": "execute_result"
    }
   ],
   "source": [
    "sentences"
   ]
  },
  {
   "cell_type": "code",
   "execution_count": 20,
   "id": "853a7c5d",
   "metadata": {},
   "outputs": [],
   "source": [
    "n = len(sentences)"
   ]
  },
  {
   "cell_type": "markdown",
   "id": "d9fd398f",
   "metadata": {},
   "source": [
    "### Створили й ініціалізували матрицю, де будемо записувати, скільки разів кожне слово було в кожному реченні"
   ]
  },
  {
   "cell_type": "code",
   "execution_count": 21,
   "id": "8b214dcc",
   "metadata": {},
   "outputs": [],
   "source": [
    "Matrix = [[0 for x in range(word_num)] for y in range(n)] "
   ]
  },
  {
   "cell_type": "markdown",
   "id": "850f56b9",
   "metadata": {},
   "source": [
    "### Записали, скільки разів кожне слово було в кожному реченні"
   ]
  },
  {
   "cell_type": "code",
   "execution_count": 22,
   "id": "a78217b0",
   "metadata": {},
   "outputs": [],
   "source": [
    "for i in range(0, n):\n",
    "    new_sen = sentences[i].split()\n",
    "    for j in range(0, word_num):\n",
    "        Matrix[i][j] = new_sen.count(list_of_words[j])"
   ]
  },
  {
   "cell_type": "markdown",
   "id": "2f8e50c2",
   "metadata": {},
   "source": [
    "### Створили матрицю, де будемо записувати, наскільки кожне речення схоже на перше"
   ]
  },
  {
   "cell_type": "code",
   "execution_count": 23,
   "id": "967dce2f",
   "metadata": {},
   "outputs": [],
   "source": [
    "similarity_matrix = [0 for x in range(0, n)]"
   ]
  },
  {
   "cell_type": "code",
   "execution_count": 24,
   "id": "31b576f9",
   "metadata": {},
   "outputs": [],
   "source": [
    "for i in range(0, n):\n",
    "    similarity_matrix[i] = scipy.spatial.distance.cosine(Matrix[0], Matrix[i])"
   ]
  },
  {
   "cell_type": "code",
   "execution_count": 25,
   "id": "fdfd426a",
   "metadata": {},
   "outputs": [
    {
     "data": {
      "text/plain": [
       "[0.0,\n",
       " 0.9475857581639041,\n",
       " 0.8505593555839847,\n",
       " 1.0,\n",
       " 0.8091145711072667,\n",
       " 1.0,\n",
       " 0.7824286827118315,\n",
       " 0.9163757989992909,\n",
       " 0.8799038846461846,\n",
       " 0.9475857581639041,\n",
       " 0.884337013606752,\n",
       " 0.8654654412007375,\n",
       " 0.8867722965855405,\n",
       " 0.9346279549539387,\n",
       " 0.8654654412007375,\n",
       " 0.9421685068033759,\n",
       " 0.8573045517536517,\n",
       " 0.9537749836478976,\n",
       " 0.9394772467331197,\n",
       " 0.9379826327053957,\n",
       " 0.884337013606752,\n",
       " 0.8692559099078774]"
      ]
     },
     "execution_count": 25,
     "metadata": {},
     "output_type": "execute_result"
    }
   ],
   "source": [
    "similarity_matrix"
   ]
  },
  {
   "cell_type": "markdown",
   "id": "8a0f871f",
   "metadata": {},
   "source": [
    "### Це я просто зі stackoverflow скопіював, щоб знайти мінімальні значення в similarity_matrix"
   ]
  },
  {
   "cell_type": "code",
   "execution_count": 27,
   "id": "19815707",
   "metadata": {},
   "outputs": [
    {
     "name": "stdout",
     "output_type": "stream",
     "text": [
      "[ 0  6  4  2 16 14 11 21  8  9  1  7 12 13  5 15  3 17 18 19 20 10]\n"
     ]
    }
   ],
   "source": [
    "A = np.array(similarity_matrix)\n",
    "k = 3\n",
    "\n",
    "idx = np.argpartition(A, k)\n",
    "print(idx)"
   ]
  },
  {
   "cell_type": "markdown",
   "id": "32dea668",
   "metadata": {},
   "source": [
    "### Як і очікувалося, найменше значення в нульового елемента (іншими словами, перше речення найбільше схоже на перше речення). Наступні два - шосте й четверте. Тому у файл для здачі запишемо \"6 4\"."
   ]
  }
 ],
 "metadata": {
  "kernelspec": {
   "display_name": "Python 3",
   "language": "python",
   "name": "python3"
  },
  "language_info": {
   "codemirror_mode": {
    "name": "ipython",
    "version": 3
   },
   "file_extension": ".py",
   "mimetype": "text/x-python",
   "name": "python",
   "nbconvert_exporter": "python",
   "pygments_lexer": "ipython3",
   "version": "3.8.8"
  }
 },
 "nbformat": 4,
 "nbformat_minor": 5
}
