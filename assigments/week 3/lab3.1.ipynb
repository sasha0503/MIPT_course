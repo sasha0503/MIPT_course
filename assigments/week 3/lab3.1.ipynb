{
 "cells": [
  {
   "cell_type": "code",
   "execution_count": 5,
   "id": "59a3b7cb",
   "metadata": {},
   "outputs": [],
   "source": [
    "from math import sin, exp\n",
    "from scipy.optimize import minimize"
   ]
  },
  {
   "cell_type": "code",
   "execution_count": 8,
   "id": "7ff47546",
   "metadata": {},
   "outputs": [],
   "source": [
    "def f(x):\n",
    "    return sin(x / 5) * exp(x / 10) + 5 * exp(-x / 2)"
   ]
  },
  {
   "cell_type": "code",
   "execution_count": 14,
   "id": "9a98128d",
   "metadata": {},
   "outputs": [
    {
     "name": "stderr",
     "output_type": "stream",
     "text": [
      "C:\\Users\\Sasha\\anaconda3\\lib\\site-packages\\scipy\\optimize\\_minimize.py:535: RuntimeWarning: Method BFGS cannot handle constraints nor bounds.\n",
      "  warn('Method %s cannot handle constraints nor bounds.' % method,\n"
     ]
    },
    {
     "data": {
      "text/plain": [
       "      fun: 1.7452682903447336\n",
       " hess_inv: array([[5.98752645]])\n",
       "      jac: array([-2.04145908e-06])\n",
       "  message: 'Optimization terminated successfully.'\n",
       "     nfev: 14\n",
       "      nit: 6\n",
       "     njev: 7\n",
       "   status: 0\n",
       "  success: True\n",
       "        x: array([4.13627628])"
      ]
     },
     "execution_count": 14,
     "metadata": {},
     "output_type": "execute_result"
    }
   ],
   "source": [
    "minimize(f, x0=2, method='BFGS', bounds=(0, 30))"
   ]
  },
  {
   "cell_type": "code",
   "execution_count": 15,
   "id": "98697cd2",
   "metadata": {},
   "outputs": [
    {
     "data": {
      "text/plain": [
       "      fun: 1.7452682903447336\n",
       " hess_inv: array([[5.98752645]])\n",
       "      jac: array([-2.04145908e-06])\n",
       "  message: 'Optimization terminated successfully.'\n",
       "     nfev: 14\n",
       "      nit: 6\n",
       "     njev: 7\n",
       "   status: 0\n",
       "  success: True\n",
       "        x: array([4.13627628])"
      ]
     },
     "execution_count": 15,
     "metadata": {},
     "output_type": "execute_result"
    }
   ],
   "source": [
    "minimize(f, x0=2, method='BFGS', bounds=(0, 30))"
   ]
  }
 ],
 "metadata": {
  "kernelspec": {
   "display_name": "Python 3",
   "language": "python",
   "name": "python3"
  },
  "language_info": {
   "codemirror_mode": {
    "name": "ipython",
    "version": 3
   },
   "file_extension": ".py",
   "mimetype": "text/x-python",
   "name": "python",
   "nbconvert_exporter": "python",
   "pygments_lexer": "ipython3",
   "version": "3.8.8"
  }
 },
 "nbformat": 4,
 "nbformat_minor": 5
}
